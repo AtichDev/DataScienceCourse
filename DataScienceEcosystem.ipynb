{
 "cells": [
  {
   "cell_type": "markdown",
   "id": "9729dc2f-f20f-4d94-bd08-e278419ce690",
   "metadata": {},
   "source": [
    "# Data Science Tools and Ecosystem"
   ]
  },
  {
   "cell_type": "markdown",
   "id": "3085c926-1d70-4219-bba4-134317c740b8",
   "metadata": {},
   "source": [
    "In this notebook, Data Science Tools and Ecosystem are summarized."
   ]
  },
  {
   "cell_type": "markdown",
   "id": "17a62768-c7a2-4b87-bc1f-891a87db0ed8",
   "metadata": {},
   "source": [
    "__Objectives__\n",
    "\n",
    "- List popular Languages\n",
    "- List commonly used Libraries\n",
    "- List commonly used Open Source Tools"
   ]
  },
  {
   "cell_type": "markdown",
   "id": "d7432135-1a2b-4fea-b5e0-fc6a7740c848",
   "metadata": {},
   "source": [
    "## Author\n",
    "Alexander Tichonow"
   ]
  },
  {
   "cell_type": "markdown",
   "id": "1b085e44-835f-4104-b2e7-8dadd264a558",
   "metadata": {},
   "source": [
    "Some of popular languages that Data Scientists user are:\n",
    "1. Python\n",
    "2. R\n",
    "3. SQL\n",
    "4. Java"
   ]
  },
  {
   "cell_type": "markdown",
   "id": "1969f748-17c6-4763-96c8-37b61b6944d8",
   "metadata": {},
   "source": [
    "Some of the commonly user libraries used by Data Scientist include:\n",
    "1. NumPy\n",
    "2. Pandas\n",
    "3. Matplotlib\n",
    "4. SciPy"
   ]
  },
  {
   "cell_type": "markdown",
   "id": "9c0ed361-add4-471e-9fbf-9761ebe019c8",
   "metadata": {},
   "source": [
    "| Data Science Tools |\n",
    "| ------------------ |\n",
    "| Jupyter Notebook |\n",
    "| Visual Studio Code |\n",
    "| RStudio |"
   ]
  },
  {
   "cell_type": "markdown",
   "id": "59908efd-57d1-4edf-918f-8e54499b2b09",
   "metadata": {},
   "source": [
    "### Below are a few examples of evaluating arithmetic expressions in Python."
   ]
  },
  {
   "cell_type": "code",
   "execution_count": 12,
   "id": "d39cb075-45c5-4fc1-b202-e89fb637eaa0",
   "metadata": {
    "tags": []
   },
   "outputs": [
    {
     "data": {
      "text/plain": [
       "17"
      ]
     },
     "execution_count": 12,
     "metadata": {},
     "output_type": "execute_result"
    }
   ],
   "source": [
    "# This a simpe arithmetic expression to multiply then add integers.\n",
    "(3*4)+5"
   ]
  },
  {
   "cell_type": "code",
   "execution_count": 14,
   "id": "6bd56505-9a2b-4a58-bb5c-c75f1d89c96b",
   "metadata": {
    "tags": []
   },
   "outputs": [
    {
     "data": {
      "text/plain": [
       "3.3333333333333335"
      ]
     },
     "execution_count": 14,
     "metadata": {},
     "output_type": "execute_result"
    }
   ],
   "source": [
    "# This will convert 200 minutes to hours by diving by 60\n",
    "200/60"
   ]
  },
  {
   "cell_type": "code",
   "execution_count": null,
   "id": "c681b698-872d-4214-be94-5b9a29c2462e",
   "metadata": {},
   "outputs": [],
   "source": []
  }
 ],
 "metadata": {
  "kernelspec": {
   "display_name": "Python 3 (ipykernel)",
   "language": "python",
   "name": "python3"
  },
  "language_info": {
   "codemirror_mode": {
    "name": "ipython",
    "version": 3
   },
   "file_extension": ".py",
   "mimetype": "text/x-python",
   "name": "python",
   "nbconvert_exporter": "python",
   "pygments_lexer": "ipython3",
   "version": "3.11.5"
  }
 },
 "nbformat": 4,
 "nbformat_minor": 5
}
